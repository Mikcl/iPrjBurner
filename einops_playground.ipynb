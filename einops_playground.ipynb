{
 "metadata": {
  "language_info": {
   "codemirror_mode": {
    "name": "ipython",
    "version": 3
   },
   "file_extension": ".py",
   "mimetype": "text/x-python",
   "name": "python",
   "nbconvert_exporter": "python",
   "pygments_lexer": "ipython3",
   "version": "3.6.9-final"
  },
  "orig_nbformat": 2,
  "kernelspec": {
   "name": "python36964bite9089b7c8fc14c7e8e610a32fb5dcf2b",
   "display_name": "Python 3.6.9 64-bit",
   "language": "python"
  }
 },
 "nbformat": 4,
 "nbformat_minor": 2,
 "cells": [
  {
   "cell_type": "code",
   "execution_count": 8,
   "metadata": {},
   "outputs": [
    {
     "output_type": "error",
     "ename": "ModuleNotFoundError",
     "evalue": "No module named 'model'",
     "traceback": [
      "\u001b[0;31m---------------------------------------------------------------------------\u001b[0m",
      "\u001b[0;31mModuleNotFoundError\u001b[0m                       Traceback (most recent call last)",
      "\u001b[0;32m<ipython-input-8-157855f8181b>\u001b[0m in \u001b[0;36m<module>\u001b[0;34m\u001b[0m\n\u001b[1;32m      3\u001b[0m \u001b[0;32mfrom\u001b[0m \u001b[0meinops\u001b[0m \u001b[0;32mimport\u001b[0m \u001b[0mrearrange\u001b[0m\u001b[0;34m,\u001b[0m \u001b[0mrepeat\u001b[0m\u001b[0;34m\u001b[0m\u001b[0;34m\u001b[0m\u001b[0m\n\u001b[1;32m      4\u001b[0m \u001b[0;32mfrom\u001b[0m \u001b[0mtorch\u001b[0m \u001b[0;32mimport\u001b[0m \u001b[0mnn\u001b[0m\u001b[0;34m\u001b[0m\u001b[0;34m\u001b[0m\u001b[0m\n\u001b[0;32m----> 5\u001b[0;31m \u001b[0;32mfrom\u001b[0m \u001b[0msrc\u001b[0m\u001b[0;34m.\u001b[0m\u001b[0mmodel\u001b[0m\u001b[0;34m.\u001b[0m\u001b[0mcell_transformer\u001b[0m \u001b[0;32mimport\u001b[0m \u001b[0mTransformerCell\u001b[0m\u001b[0;34m\u001b[0m\u001b[0;34m\u001b[0m\u001b[0m\n\u001b[0m",
      "\u001b[0;32m~/Documents/KCL/4/PRJ/src/model/__init__.py\u001b[0m in \u001b[0;36m<module>\u001b[0;34m\u001b[0m\n\u001b[0;32m----> 1\u001b[0;31m \u001b[0;32mfrom\u001b[0m \u001b[0mmodel\u001b[0m\u001b[0;34m.\u001b[0m\u001b[0mcell_t\u001b[0m \u001b[0;32mimport\u001b[0m \u001b[0mCellT\u001b[0m\u001b[0;34m\u001b[0m\u001b[0;34m\u001b[0m\u001b[0m\n\u001b[0m\u001b[1;32m      2\u001b[0m \u001b[0;32mfrom\u001b[0m \u001b[0mmodel\u001b[0m\u001b[0;34m.\u001b[0m\u001b[0mcell_growing_ca\u001b[0m \u001b[0;32mimport\u001b[0m \u001b[0mCellGrowingCA\u001b[0m\u001b[0;34m\u001b[0m\u001b[0;34m\u001b[0m\u001b[0m\n\u001b[1;32m      3\u001b[0m \u001b[0;32mfrom\u001b[0m \u001b[0mmodel\u001b[0m\u001b[0;34m.\u001b[0m\u001b[0mcell\u001b[0m \u001b[0;32mimport\u001b[0m \u001b[0mCell\u001b[0m\u001b[0;34m\u001b[0m\u001b[0;34m\u001b[0m\u001b[0m\n\u001b[1;32m      4\u001b[0m \u001b[0;32mfrom\u001b[0m \u001b[0mmodel\u001b[0m\u001b[0;34m.\u001b[0m\u001b[0mregime\u001b[0m \u001b[0;32mimport\u001b[0m \u001b[0mGrowingCA\u001b[0m\u001b[0;34m\u001b[0m\u001b[0;34m\u001b[0m\u001b[0m\n",
      "\u001b[0;31mModuleNotFoundError\u001b[0m: No module named 'model'"
     ]
    }
   ],
   "source": [
    "import torch\n",
    "import torch.nn.functional as F\n",
    "from einops import rearrange, repeat\n",
    "from torch import nn\n",
    "from src.model.cell_transformer import TransformerCell"
   ]
  },
  {
   "cell_type": "code",
   "execution_count": 2,
   "metadata": {},
   "outputs": [],
   "source": [
    "dim=128\n",
    "image_size=224\n",
    "patch_size=32\n",
    "channels = 3\n",
    "\n",
    "assert image_size % patch_size == 0, 'Image dimensions must be divisible by the patch size.'\n",
    "emb_dropout = 0."
   ]
  },
  {
   "cell_type": "code",
   "execution_count": null,
   "metadata": {},
   "outputs": [],
   "source": []
  },
  {
   "cell_type": "code",
   "execution_count": 3,
   "metadata": {},
   "outputs": [],
   "source": [
    "num_patches = (image_size // patch_size) ** 2\n",
    "patch_dim = channels * patch_size ** 2\n",
    "\n",
    "patch_size = patch_size\n",
    "\n",
    "pos_embedding = nn.Parameter(torch.randn(1, num_patches + 1, dim))\n",
    "patch_to_embedding = nn.Linear(patch_dim, dim)\n",
    "cls_token = nn.Parameter(torch.randn(1, 1, dim))\n",
    "dropout = nn.Dropout(emb_dropout)"
   ]
  },
  {
   "cell_type": "code",
   "execution_count": 4,
   "metadata": {},
   "outputs": [
    {
     "output_type": "stream",
     "name": "stdout",
     "text": [
      "torch.Size([2, 3, 224, 224])\n"
     ]
    }
   ],
   "source": [
    "img = torch.randn((2 ,channels, image_size, image_size))\n",
    "print(img.shape)"
   ]
  },
  {
   "cell_type": "code",
   "execution_count": 5,
   "metadata": {},
   "outputs": [
    {
     "output_type": "stream",
     "name": "stdout",
     "text": [
      "Image Shape torch.Size([2, 3, 224, 224])\n",
      "Re arranged Shape torch.Size([2, 49, 3072])\n",
      "Patch To Embedding Shape torch.Size([2, 49, 128])\n",
      "CLS TOKEN SHAPE torch.Size([1, 1, 128])\n",
      "CLS TOKENs SHAPE torch.Size([2, 1, 128])\n",
      "Concat torch.Size([2, 50, 128])\n",
      "Concat then prepend pos torch.Size([1, 50, 128]) torch.Size([2, 50, 128])\n",
      "X for transformer torch.Size([2, 50, 128])\n"
     ]
    }
   ],
   "source": [
    "p = patch_size\n",
    "\n",
    "print ('Image Shape', img.shape)\n",
    "x = rearra arrange 'b c (h p1) (w p2) -> b (h w) (p1 p2 c)', p1 = p, p2 = p)\n",
    "print ('Re arranged Shape', x.shape)\n",
    "# patches = imageSize^2 / patchSize^2\n",
    "# flattenedChannel = channels * patchSize^2\n",
    "# Images, Patches, flattenedChannel\n",
    "\n",
    "\n",
    "x = patch_to_embedding(x)\n",
    "# A nn to learn the embedding - output of patches with dim-channels, instead of flattendChannels)\n",
    "print ('Patch To Embedding Shape', x.shape)\n",
    "b, n, _ = x.shape\n",
    "print ('CLS TOKEN SHAPE', cls_token.shape)\n",
    "cls_tokens = repeat(cls_token, '() n d -> b n d', b = b)\n",
    "print ('CLS TOKENs SHAPE, add token for each batch', cls_tokens.shape)\n",
    "x = torch.cat((cls_tokens, x), dim=1)\n",
    "print ('Concat', x.shape)\n",
    "x += pos_embedding[:, :(n + 1)]\n",
    "print ('Concat then prepend pos', pos_embedding.shape, x.shape)\n",
    "x = dropout(x)\n",
    "print ('X for transformer', x.shape)"
   ]
  },
  {
   "cell_type": "code",
   "execution_count": null,
   "metadata": {},
   "outputs": [],
   "source": []
  },
  {
   "cell_type": "code",
   "execution_count": null,
   "metadata": {},
   "outputs": [],
   "source": [
    "for epoch in range(4000):\n",
    "    x0 = np.repeat(seed[None, ...], BATCH_SIZE, 0)\n",
    "    x0 = torch.Tensor(x0).to(device)\n",
    "    x = x0\n",
    "    for step in range(100):\n",
    "        output = model(x)\n",
    "        loss_objective = torch.mean(loss_f(output))\n",
    "\n",
    "        optimizer.zero_grad()\n",
    "        loss_objective.backward()\n",
    "        optimizer.step()\n",
    "        scheduler.step()\n",
    "        x = output\n",
    "\n",
    "    # DISPLAY results of final loss state. \n",
    "    lo_n = loss_objective.cpu().detach().numpy()\n",
    "\n",
    "    step_i = len(loss_log)\n",
    "    loss_log.append(lo_n)\n",
    "\n",
    "    # if step_i%1000 == 0:\n",
    "    #     generate_pool_figures(pool, step_i)\n",
    "    if step_i%100 == 0:\n",
    "        o_n = output.cpu().detach()\n",
    "        x0_n = x0.cpu().detach()\n",
    "        clear_output()\n",
    "        visualize_batch(x0_n, o_n, step_i)\n",
    "        utils.plot_loss(loss_log)\n",
    "        # export_model(ca, 'train_log/%04d'%step_i)\n",
    "\n",
    "    print('\\r step: %d, log10(loss): %.3f'%(len(loss_log), np.log10(lo_n)), end='')\n"
   ]
  }
 ]
}